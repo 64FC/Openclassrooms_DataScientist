{
  "nbformat": 4,
  "nbformat_minor": 0,
  "metadata": {
    "colab": {
      "provenance": [],
      "authorship_tag": "ABX9TyNciaAlRGJwwCb6d9RDYjyK"
    },
    "kernelspec": {
      "name": "python3",
      "display_name": "Python 3"
    },
    "language_info": {
      "name": "python"
    }
  },
  "cells": [
    {
      "cell_type": "markdown",
      "source": [
        "# 1. Context and data upload"
      ],
      "metadata": {
        "id": "qjoQV-h4bBLQ"
      }
    },
    {
      "cell_type": "markdown",
      "source": [
        "Data comes from [sg.openfoodfacts.org](https://sg.openfoodfacts.org/).\n",
        "\n",
        "I tailored it as I only selected data from Singapore (main website is [openfoodfacts.org](https://world.openfoodfacts.org/)), but there is too much data to download and then use.\n",
        "\n",
        "First I downloaded the CSV file (2.2Mo).\n",
        "- File is now on my computer, ready to be uploaded,\n",
        "- Cloud storage may be considered, but not at this point for me (paid option).\n",
        "\n",
        "Next step is to upload the CSV file in here."
      ],
      "metadata": {
        "id": "TBtgmNZ2bK-0"
      }
    },
    {
      "cell_type": "code",
      "source": [],
      "metadata": {
        "id": "ezDPF6gQxAid"
      },
      "execution_count": null,
      "outputs": []
    },
    {
      "cell_type": "code",
      "source": [
        "# IDEA: append the data from Malaysia for a bigger dataset?\n",
        "\n",
        "# IDEA 2: also append data from Thailand/Indonesia?\n",
        "# -> check if product_name_(lang) is not impacted"
      ],
      "metadata": {
        "id": "BWHOS6SbxAlx"
      },
      "execution_count": null,
      "outputs": []
    },
    {
      "cell_type": "code",
      "source": [],
      "metadata": {
        "id": "AE2JS_7exAo1"
      },
      "execution_count": null,
      "outputs": []
    },
    {
      "cell_type": "code",
      "source": [
        "# First start by importing the packages used\n",
        "\n",
        "# Work on data\n",
        "import numpy as np\n",
        "import pandas as pd\n",
        "# Dataframe display\n",
        "from tabulate import tabulate\n",
        "# Plot missing values\n",
        "import missingno as msno\n",
        "# Plotting\n",
        "import matplotlib.pyplot as plt\n",
        "import seaborn as sns"
      ],
      "metadata": {
        "id": "3TISHLpDaTH7"
      },
      "execution_count": null,
      "outputs": []
    },
    {
      "cell_type": "markdown",
      "source": [
        "According to online documentation:\n",
        "- file is delimited using tabulation\n",
        "- file encoding is UTF-8"
      ],
      "metadata": {
        "id": "IyYlDxOYeqCd"
      }
    },
    {
      "cell_type": "code",
      "source": [
        "# Read the file and create the dataset:\n",
        "init_data = pd.read_csv('openfoodfacts_export.csv', sep='\\t')\n",
        "\n",
        "# Check if difference with encoding?\n",
        "#init_data = pd.read_csv('openfoodfacts_export.csv', sep='\\t', encoding='utf-8')"
      ],
      "metadata": {
        "id": "whYedpLLquD0"
      },
      "execution_count": null,
      "outputs": []
    },
    {
      "cell_type": "markdown",
      "source": [
        "# 2. Overview of the data and pre-selection based on language"
      ],
      "metadata": {
        "id": "RdOTbI46rI2e"
      }
    },
    {
      "cell_type": "code",
      "source": [
        "# Let's have a look at the shape first:\n",
        "print(\"This dataset contains {} rows and {} columns\".format(\n",
        "    init_data.shape[0], init_data.shape[1]))"
      ],
      "metadata": {
        "id": "HKykB7KxaTRN"
      },
      "execution_count": null,
      "outputs": []
    },
    {
      "cell_type": "code",
      "source": [
        "# Overview of what information it contains.\n",
        "# print(tabulate()) is only a way to display the information.\n",
        "print(tabulate(init_data.head(5), headers='keys', tablefmt='github'))"
      ],
      "metadata": {
        "id": "boRnZr8WaTUA"
      },
      "execution_count": null,
      "outputs": []
    },
    {
      "cell_type": "code",
      "source": [
        "# I will now go through the different columns and, based on the language,\n",
        "# remove the ones that are too empty.\n",
        "# Start by initializing an empty list:\n",
        "removed_columns = []"
      ],
      "metadata": {
        "id": "N-5YXOw0zJ8Q"
      },
      "execution_count": null,
      "outputs": []
    },
    {
      "cell_type": "markdown",
      "source": [
        "## 2.1. Selection of the 'product_name_[...]'"
      ],
      "metadata": {
        "id": "UzZu9kUwwQFh"
      }
    },
    {
      "cell_type": "code",
      "source": [
        "# Each product is named in different languages, I'll check their completion.\n",
        "# Use of RegEx: https://www.w3schools.com/python/python_regex.asp\n",
        "prod_name_lang_df = init_data.filter(regex=('^product_name_'))\n",
        "print(tabulate(prod_name_lang_df.head(5), headers='keys', tablefmt='github'))"
      ],
      "metadata": {
        "id": "fy0KVZeptsxo"
      },
      "execution_count": null,
      "outputs": []
    },
    {
      "cell_type": "code",
      "source": [
        "# I also save these columns in a list:\n",
        "prod_name_lang_list = init_data.filter(\n",
        "    regex=('^product_name_')).columns.to_list()"
      ],
      "metadata": {
        "id": "1U76TPp-vPN0"
      },
      "execution_count": null,
      "outputs": []
    },
    {
      "cell_type": "code",
      "source": [
        "_ = msno.matrix(df=prod_name_lang_df, figsize=(10,5), fontsize=9)"
      ],
      "metadata": {
        "id": "rRrIdcThaTmi"
      },
      "execution_count": null,
      "outputs": []
    },
    {
      "cell_type": "code",
      "source": [
        "# Since the product names are mostly available in English (also in French,\n",
        "# but in a lesser extent), I only keep the '_en' variable:\n",
        "prod_name_lang_list.remove('product_name_en')"
      ],
      "metadata": {
        "id": "SqMWJiN6vsmX"
      },
      "execution_count": null,
      "outputs": []
    },
    {
      "cell_type": "code",
      "source": [
        "# I add the other columns in the removal list:\n",
        "removed_columns.append(prod_name_lang_list)"
      ],
      "metadata": {
        "id": "SJLxU5I-ziIb"
      },
      "execution_count": null,
      "outputs": []
    },
    {
      "cell_type": "markdown",
      "source": [
        "## 2.2. Selection of the 'abbreviated_product_name_[...]'"
      ],
      "metadata": {
        "id": "2LOEhk4Byz2h"
      }
    },
    {
      "cell_type": "code",
      "source": [
        "# There is only one column at that time, but that may change:\n",
        "abv_prod_name_lang_df = init_data.filter(regex=('^abbreviated_product_name_'))\n",
        "print(tabulate(abv_prod_name_lang_df.head(5), headers='keys',\n",
        "               tablefmt='github'))"
      ],
      "metadata": {
        "id": "AmXYQMHb48hE"
      },
      "execution_count": null,
      "outputs": []
    },
    {
      "cell_type": "code",
      "source": [
        "# I also save this column (for now?) in a list:\n",
        "abv_prod_name_lang_list = init_data.filter(\n",
        "    regex=('^abbreviated_product_name_')).columns.to_list()"
      ],
      "metadata": {
        "id": "cSgZY3Yx5Wjn"
      },
      "execution_count": null,
      "outputs": []
    },
    {
      "cell_type": "code",
      "source": [
        "_ = msno.matrix(df=abv_prod_name_lang_df, figsize=(4,3), fontsize=8)"
      ],
      "metadata": {
        "id": "UxKdg4gsyaWf"
      },
      "execution_count": null,
      "outputs": []
    },
    {
      "cell_type": "code",
      "source": [
        "# This does not seem to be useful, so I add the column in the removal list.\n",
        "# I use 'extend' here since there is one element only.\n",
        "# If the assertion fails (meaning that there is more than one element),\n",
        "# use 'append' instead of 'extend':\n",
        "assert len(abv_prod_name_lang_list) == 1\n",
        "removed_columns.extend(abv_prod_name_lang_list)"
      ],
      "metadata": {
        "id": "gzEvZL_F5g1G"
      },
      "execution_count": null,
      "outputs": []
    },
    {
      "cell_type": "markdown",
      "source": [
        "## 2.3. Selection of the 'generic_name_[...]'"
      ],
      "metadata": {
        "id": "3nt4qhE3zu1D"
      }
    },
    {
      "cell_type": "code",
      "source": [
        "# Each product is named in different languages, I'll check their completion:\n",
        "gen_name_lang_df = init_data.filter(regex=('^generic_name_'))\n",
        "print(tabulate(gen_name_lang_df.head(5), headers='keys', tablefmt='github'))"
      ],
      "metadata": {
        "id": "uqXF844LyaaF"
      },
      "execution_count": null,
      "outputs": []
    },
    {
      "cell_type": "code",
      "source": [
        "# I also save these columns in a list:\n",
        "gen_name_lang_list = init_data.filter(\n",
        "    regex=('^generic_name_')).columns.to_list()"
      ],
      "metadata": {
        "id": "SGknFOnK0Tjl"
      },
      "execution_count": null,
      "outputs": []
    },
    {
      "cell_type": "code",
      "source": [
        "_ = msno.matrix(df=gen_name_lang_df, figsize=(10,5), fontsize=9)"
      ],
      "metadata": {
        "id": "BNtFcj4V0Z9u"
      },
      "execution_count": null,
      "outputs": []
    },
    {
      "cell_type": "code",
      "source": [
        "# This does not seem to be useful, so I add the columns in the removal list:\n",
        "removed_columns.append(gen_name_lang_list)"
      ],
      "metadata": {
        "id": "UmnMqUGJ1MeZ"
      },
      "execution_count": null,
      "outputs": []
    },
    {
      "cell_type": "markdown",
      "source": [
        "## 2.4. Selection of the 'origin_[...]'"
      ],
      "metadata": {
        "id": "KGWsJ2r71yqy"
      }
    },
    {
      "cell_type": "code",
      "source": [
        "# There are only two columns at that time, but that may change:\n",
        "origin_lang_df = init_data.filter(regex=('^origin_'))\n",
        "print(tabulate(origin_lang_df.head(5), headers='keys', tablefmt='github'))"
      ],
      "metadata": {
        "id": "UYvxUEEp1Mh_"
      },
      "execution_count": null,
      "outputs": []
    },
    {
      "cell_type": "code",
      "source": [
        "# I also save these columns in a list:\n",
        "origin_lang_list = init_data.filter(regex=('^origin_')).columns.to_list()"
      ],
      "metadata": {
        "id": "qonanmi51Mkg"
      },
      "execution_count": null,
      "outputs": []
    },
    {
      "cell_type": "code",
      "source": [
        "_ = msno.matrix(df=origin_lang_df, figsize=(4,3), fontsize=8)"
      ],
      "metadata": {
        "id": "sSZGF0BY1Mm4"
      },
      "execution_count": null,
      "outputs": []
    },
    {
      "cell_type": "code",
      "source": [
        "# This does not seem to be useful, so I add the columns in the removal list:\n",
        "removed_columns.append(origin_lang_list)"
      ],
      "metadata": {
        "id": "uDeuGU4Z1MpZ"
      },
      "execution_count": null,
      "outputs": []
    },
    {
      "cell_type": "markdown",
      "source": [
        "## 2.5. Selection of the 'ingredients_text_[...]'"
      ],
      "metadata": {
        "id": "Q8jWT6rI3FV7"
      }
    },
    {
      "cell_type": "code",
      "source": [
        "# Ingredients are listed in different languages, I'll check their completion:\n",
        "ingred_txt_lang_df = init_data.filter(regex=('^ingredients_text_'))\n",
        "print(tabulate(ingred_txt_lang_df.head(5), headers='keys', tablefmt='github'))"
      ],
      "metadata": {
        "id": "Q_4_IJdq1Mr_"
      },
      "execution_count": null,
      "outputs": []
    },
    {
      "cell_type": "code",
      "source": [
        "# I also save these columns in a list:\n",
        "ingred_txt_lang_list = init_data.filter(\n",
        "    regex=('^ingredients_text_')).columns.to_list()"
      ],
      "metadata": {
        "id": "te7Xy8V23EVk"
      },
      "execution_count": null,
      "outputs": []
    },
    {
      "cell_type": "code",
      "source": [
        "_ = msno.matrix(df=ingred_txt_lang_df, figsize=(10,5), fontsize=9)"
      ],
      "metadata": {
        "id": "3Na5o-qx3EXz"
      },
      "execution_count": null,
      "outputs": []
    },
    {
      "cell_type": "code",
      "source": [
        "# Since the ingredients are mostly available in English (also in French,\n",
        "# but in a lesser extent), I only keep the '_en' variable:\n",
        "ingred_txt_lang_list.remove('ingredients_text_en')"
      ],
      "metadata": {
        "id": "kyIe7pHL3EaU"
      },
      "execution_count": null,
      "outputs": []
    },
    {
      "cell_type": "code",
      "source": [
        "# I add the other columns in the removal list:\n",
        "removed_columns.append(prod_name_lang_list)"
      ],
      "metadata": {
        "id": "li0p6-uD3Ecz"
      },
      "execution_count": null,
      "outputs": []
    },
    {
      "cell_type": "markdown",
      "source": [
        "# 3. Data preparation (cleaning and completion)"
      ],
      "metadata": {
        "id": "dHw8I0JM6Nre"
      }
    },
    {
      "cell_type": "code",
      "source": [
        "# Let's start by removing the columns from the previous section\n",
        "cleaning_df = init_data[~removed_columns]"
      ],
      "metadata": {
        "id": "FKZRwEwa3EfS"
      },
      "execution_count": null,
      "outputs": []
    },
    {
      "cell_type": "code",
      "source": [],
      "metadata": {
        "id": "WBA6IwSJyadA"
      },
      "execution_count": null,
      "outputs": []
    }
  ]
}